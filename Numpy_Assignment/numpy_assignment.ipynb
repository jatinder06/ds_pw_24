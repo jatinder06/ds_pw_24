{
 "cells": [
  {
   "cell_type": "markdown",
   "id": "aa3eb91a-cadf-44ca-80c8-cc99afe6069b",
   "metadata": {},
   "source": [
    "# NumPy Assignment"
   ]
  },
  {
   "cell_type": "markdown",
   "id": "6d5b765b-c910-4840-ab3c-b7fc1aaa72b2",
   "metadata": {
    "tags": []
   },
   "source": [
    "##### 1. What is a Python library? Why do we use Python libraries?"
   ]
  },
  {
   "cell_type": "markdown",
   "id": "d8354dce-fb9a-4f13-80ec-baf57ef78a64",
   "metadata": {},
   "source": [
    "Python library is a collection of classes, methods and functions. theses collection are developed with purpose of resusable, fully tested by domain experts or perfessionals and optimized in term of resources usage and execution type. Therefore, we reuse them to avoid rework and improve the productivity. "
   ]
  },
  {
   "cell_type": "markdown",
   "id": "3d0b3095-82cb-42bb-aa03-9cf5ab2f0858",
   "metadata": {},
   "source": [
    "##### 2. What is the difference between Numpy array and List?"
   ]
  },
  {
   "cell_type": "markdown",
   "id": "618f1f15-c5da-499e-8f98-236307da1320",
   "metadata": {},
   "source": [
    "- Numpy Array are static and homogenous data collection which store only one type of datatypes like all elements of Numpy array will integer datatype and if one element is of string then all elements of array will be stored in string datatype.\n",
    "- Python List is dynamic muteable datastructure which store of hetrogenous data that could of any datatype. like List can contain mix of inter, string or any class of data type"
   ]
  },
  {
   "cell_type": "markdown",
   "id": "8b330366-7438-48ad-b30a-153f2f8d87a6",
   "metadata": {},
   "source": [
    "##### 3. Find the shape, size and dimension of the following array?\n",
    "\n",
    "[[1, 2, 3, 4]\n",
    "\n",
    "[5, 6, 7, 8],\n",
    "\n",
    "[9, 10, 11, 12]]"
   ]
  },
  {
   "cell_type": "code",
   "execution_count": 13,
   "id": "28ea6780-c2d8-4fcc-8661-a6adc86a7157",
   "metadata": {},
   "outputs": [
    {
     "name": "stdout",
     "output_type": "stream",
     "text": [
      " array shape: (3, 4)\n",
      " arrany  size: 12\n",
      " arrany  dimensions: 2\n"
     ]
    }
   ],
   "source": [
    "import numpy as np\n",
    "\n",
    "arr = np.array([[1, 2, 3, 4], [5, 6, 7, 8], [9, 10, 11, 12]])\n",
    "##  np.shape returns the shape in row and cols of numpy array\n",
    "print(f\" array shape: {arr.shape}\" )\n",
    "## np.size returns the count of elements in  numpy array,\n",
    "print(f\" arrany  size: {arr.size}\" )\n",
    "## np.ndim returns the dimensions of numpy array \n",
    "print(f\" arrany  dimensions: {arr.ndim}\" )"
   ]
  },
  {
   "cell_type": "markdown",
   "id": "ea3c1ddc-d8fc-4c7b-ab07-a9ee6656c0f2",
   "metadata": {},
   "source": [
    "##### 4. Write python code to access the first row of the following array?\n",
    "\n",
    "[[1, 2, 3, 4]\n",
    "\n",
    "[5, 6, 7, 8],\n",
    "\n",
    "[9, 10, 11, 12]]"
   ]
  },
  {
   "cell_type": "code",
   "execution_count": 14,
   "id": "52544fa6-ccc5-410e-add0-b42c5f5957c7",
   "metadata": {},
   "outputs": [
    {
     "data": {
      "text/plain": [
       "array([1, 2, 3, 4])"
      ]
     },
     "execution_count": 14,
     "metadata": {},
     "output_type": "execute_result"
    }
   ],
   "source": [
    "arr4= np.array([[1, 2, 3, 4], [5, 6, 7, 8], [9, 10, 11, 12]])\n",
    "## to access the first row\n",
    "arr4[0,:]"
   ]
  },
  {
   "cell_type": "markdown",
   "id": "cdd08228-c4b1-4d39-bf67-7121994d1c0e",
   "metadata": {},
   "source": [
    "##### 5. How do you access the element at the third row and fourth column from the given numpy array?\n",
    "\n",
    "[[1, 2, 3, 4]\n",
    "\n",
    "[5, 6, 7, 8],\n",
    "\n",
    "[9, 10, 11, 12]]"
   ]
  },
  {
   "cell_type": "code",
   "execution_count": 15,
   "id": "3a49981f-e0f6-4003-bd85-482aef149549",
   "metadata": {},
   "outputs": [
    {
     "data": {
      "text/plain": [
       "array([[ 3,  4],\n",
       "       [ 7,  8],\n",
       "       [11, 12]])"
      ]
     },
     "execution_count": 15,
     "metadata": {},
     "output_type": "execute_result"
    }
   ],
   "source": [
    "## the third row and fourth column from the given numpy array\n",
    "arr5= np.array([[1, 2, 3, 4],\n",
    "\n",
    "[5, 6, 7, 8],\n",
    "\n",
    "[9, 10, 11, 12]])\n",
    "arr5[:,2:4]"
   ]
  },
  {
   "cell_type": "markdown",
   "id": "d93d35fc-0f72-419d-894a-b5d556c41f48",
   "metadata": {
    "jp-MarkdownHeadingCollapsed": true,
    "tags": []
   },
   "source": [
    "##### 6. Write code to extract all odd-indexed elements from the given numpy array?\n",
    "\n",
    "[[1, 2, 3, 4]\n",
    "\n",
    "[5, 6, 7, 8],\n",
    "\n",
    "[9, 10, 11, 12]]"
   ]
  },
  {
   "cell_type": "code",
   "execution_count": 16,
   "id": "11a457ac-e73e-4503-8792-0f417e812d91",
   "metadata": {},
   "outputs": [
    {
     "data": {
      "text/plain": [
       "[2, 4, 5, 6, 7, 8, 9, 10, 11, 12]"
      ]
     },
     "execution_count": 16,
     "metadata": {},
     "output_type": "execute_result"
    }
   ],
   "source": [
    "arr6 = np.array([[1, 2, 3, 4],\n",
    "\n",
    "[5, 6, 7, 8],\n",
    "\n",
    "[9, 10, 11, 12]])\n",
    "arr6.shape[1]\n",
    "[arr6[i, j] for i in range(arr6.shape[0]) for j in range(arr6.shape[1]) if i+j%2!=0 ]"
   ]
  },
  {
   "cell_type": "markdown",
   "id": "1e26101e-4535-4386-8f77-6cbed9ed96d5",
   "metadata": {
    "jp-MarkdownHeadingCollapsed": true,
    "tags": []
   },
   "source": [
    "##### 7. How can you generate a random 3x3 matrix with values between 0 and 1?"
   ]
  },
  {
   "cell_type": "code",
   "execution_count": 17,
   "id": "e92fd515-5afc-489c-b9f2-05efd8f3b8c0",
   "metadata": {},
   "outputs": [
    {
     "data": {
      "text/plain": [
       "array([[0.96879883, 0.72421758, 0.61289104],\n",
       "       [0.27691608, 0.16175537, 0.68751401],\n",
       "       [0.49789337, 0.44323624, 0.632968  ]])"
      ]
     },
     "execution_count": 17,
     "metadata": {},
     "output_type": "execute_result"
    }
   ],
   "source": [
    "## generate a random 3x3 matrix with values between 0 and 1\n",
    "np.random.rand(3,3)"
   ]
  },
  {
   "cell_type": "markdown",
   "id": "160c659f-7973-47b8-b7a4-4c411b59ea0c",
   "metadata": {
    "jp-MarkdownHeadingCollapsed": true,
    "tags": []
   },
   "source": [
    "##### 8. Describe the difference between np.random.rand and np.random.randn?"
   ]
  },
  {
   "cell_type": "markdown",
   "id": "323cbd72-7f90-42a3-894b-e7031f0112f8",
   "metadata": {},
   "source": [
    "np.random.rand is for Uniform distribution in the half-open interval [0.0, 1.0)\n",
    "\n",
    "np.random.randn is for Standard Normal (aka. Gaussian) distribution (mean 0 and variance 1)"
   ]
  },
  {
   "cell_type": "code",
   "execution_count": 18,
   "id": "b4967da0-1bb2-434d-8f84-3168060902f3",
   "metadata": {},
   "outputs": [
    {
     "data": {
      "image/png": "[encoded data removed]",
      "text/plain": [
       "<Figure size 640x480 with 1 Axes>"
      ]
     },
     "metadata": {},
     "output_type": "display_data"
    },
    {
     "data": {
      "image/png": "[encoded data removed]",
      "text/plain": [
       "<Figure size 640x480 with 1 Axes>"
      ]
     },
     "metadata": {},
     "output_type": "display_data"
    }
   ],
   "source": [
    "import numpy as np\n",
    "import matplotlib.pyplot as plt\n",
    "\n",
    "sample_size = 100000\n",
    "uniform = np.random.rand(sample_size)\n",
    "normal = np.random.randn(sample_size)\n",
    "\n",
    "pdf, bins, patches = plt.hist(uniform, bins=20, range=(0, 1), density=True)\n",
    "plt.title('rand: uniform')\n",
    "plt.show()\n",
    "\n",
    "pdf, bins, patches = plt.hist(normal, bins=20, range=(-4, 4), density=True)\n",
    "plt.title('randn: normal')\n",
    "plt.show()"
   ]
  },
  {
   "cell_type": "markdown",
   "id": "66733e11-188e-45c9-9f20-d8d8451e89a6",
   "metadata": {},
   "source": [
    "##### 9. Write code to increase the dimension of the following array?\n",
    "\n",
    "[[1, 2, 3, 4]\n",
    "\n",
    "[5, 6, 7, 8],\n",
    "\n",
    "[9, 10, 11, 12]]"
   ]
  },
  {
   "cell_type": "code",
   "execution_count": 19,
   "id": "a2639bda-5379-44ba-b1c5-544051692ea0",
   "metadata": {},
   "outputs": [
    {
     "data": {
      "text/plain": [
       "array([[[ 1,  2,  3,  4],\n",
       "        [ 5,  6,  7,  8],\n",
       "        [ 9, 10, 11, 12]]])"
      ]
     },
     "execution_count": 19,
     "metadata": {},
     "output_type": "execute_result"
    }
   ],
   "source": [
    "arr9 = np.array([[1, 2, 3, 4],[5, 6, 7, 8],[9, 10, 11, 12]])\n",
    "np.expand_dims(arr9, axis=0)"
   ]
  },
  {
   "cell_type": "markdown",
   "id": "dbc697a4-2709-4246-be38-31efefdbe824",
   "metadata": {},
   "source": [
    "##### 10. How to transpose the following array in NumPy?\n",
    "\n",
    "[[1, 2, 3, 4]\n",
    "\n",
    "[5, 6, 7, 8],\n",
    "\n",
    "[9, 10, 11, 12]]"
   ]
  },
  {
   "cell_type": "code",
   "execution_count": 20,
   "id": "6ed3c2eb-3dec-4816-917f-5d77a458e405",
   "metadata": {},
   "outputs": [
    {
     "data": {
      "text/plain": [
       "array([[ 1,  5,  9],\n",
       "       [ 2,  6, 10],\n",
       "       [ 3,  7, 11],\n",
       "       [ 4,  8, 12]])"
      ]
     },
     "execution_count": 20,
     "metadata": {},
     "output_type": "execute_result"
    }
   ],
   "source": [
    "arr10 = np.array([[1, 2, 3, 4], [5, 6, 7, 8], [9, 10, 11, 12]])\n",
    "arr10.T"
   ]
  },
  {
   "cell_type": "markdown",
   "id": "00a53133-1a1d-41db-9eba-95a593bbcd15",
   "metadata": {},
   "source": [
    "##### 11. Consider the following matrix:\n",
    "\n",
    "Matrix A2 [[1, 2, 3, 4] [5, 6, 7, 8],[9, 10, 11, 12]]\n",
    "\n",
    "Matrix B2 [[1, 2, 3, 4] [5, 6, 7, 8],[9, 10, 11, 12]]\n",
    "\n",
    "Perform the following operation using Python1\n",
    "- Index wise multiplication\n",
    "- Matrix multiplication\n",
    "- Add both the matrics\n",
    "- Subtract matrix B from A\n",
    "- Divide Matrix B by A"
   ]
  },
  {
   "cell_type": "code",
   "execution_count": 21,
   "id": "75eee6d0-5f84-491d-8411-39a57cc407d4",
   "metadata": {},
   "outputs": [
    {
     "data": {
      "text/plain": [
       "array([[ 2,  4,  6,  8],\n",
       "       [10, 12, 14, 16],\n",
       "       [18, 20, 22, 24]])"
      ]
     },
     "execution_count": 21,
     "metadata": {},
     "output_type": "execute_result"
    }
   ],
   "source": [
    "# Index wise multiplication\n",
    "A2 = np.array([[1, 2, 3, 4], [5, 6, 7, 8],[9, 10, 11, 12]])\n",
    "B2 = np.array([[1, 2, 3, 4], [5, 6, 7, 8],[9, 10, 11, 12]])\n",
    "A2+B2"
   ]
  },
  {
   "cell_type": "code",
   "execution_count": 27,
   "id": "4d434e32-994a-4c3f-8777-827bb790c593",
   "metadata": {},
   "outputs": [
    {
     "data": {
      "text/plain": [
       "array([[107, 122, 137, 152],\n",
       "       [122, 140, 158, 176],\n",
       "       [137, 158, 179, 200],\n",
       "       [152, 176, 200, 224]])"
      ]
     },
     "execution_count": 27,
     "metadata": {},
     "output_type": "execute_result"
    }
   ],
   "source": [
    "## Matrix multiplication\n",
    "A2.T@B2"
   ]
  },
  {
   "cell_type": "code",
   "execution_count": 23,
   "id": "9f6ec492-f014-4698-bda2-b8700f163bb0",
   "metadata": {},
   "outputs": [
    {
     "data": {
      "text/plain": [
       "array([[ 2,  4,  6,  8],\n",
       "       [10, 12, 14, 16],\n",
       "       [18, 20, 22, 24]])"
      ]
     },
     "execution_count": 23,
     "metadata": {},
     "output_type": "execute_result"
    }
   ],
   "source": [
    "A2+B2"
   ]
  },
  {
   "cell_type": "code",
   "execution_count": 24,
   "id": "413fb938-3ed3-484f-b8c7-d2dcfdca80e8",
   "metadata": {},
   "outputs": [
    {
     "data": {
      "text/plain": [
       "array([[0, 0, 0, 0],\n",
       "       [0, 0, 0, 0],\n",
       "       [0, 0, 0, 0]])"
      ]
     },
     "execution_count": 24,
     "metadata": {},
     "output_type": "execute_result"
    }
   ],
   "source": [
    "B2-A2"
   ]
  },
  {
   "cell_type": "code",
   "execution_count": 25,
   "id": "ef3a672d-634f-459d-b954-f8d1e0e5329b",
   "metadata": {},
   "outputs": [
    {
     "data": {
      "text/plain": [
       "array([[1., 1., 1., 1.],\n",
       "       [1., 1., 1., 1.],\n",
       "       [1., 1., 1., 1.]])"
      ]
     },
     "execution_count": 25,
     "metadata": {},
     "output_type": "execute_result"
    }
   ],
   "source": [
    "B2/A2"
   ]
  },
  {
   "cell_type": "markdown",
   "id": "1112ae34-ec5d-40cd-bd76-52cbbf1ed348",
   "metadata": {},
   "source": [
    "##### 12.  Which function in Numpy can be used to swap the byte order of an array?"
   ]
  },
  {
   "cell_type": "markdown",
   "id": "6c9cf59e-d662-439e-8ede-3d7b84ef7528",
   "metadata": {},
   "source": [
    "ndarry.byteswap() in Numpy can be used to swap the byte order of an array."
   ]
  },
  {
   "cell_type": "markdown",
   "id": "299e284b-d32e-492f-ba74-5802bb3855ef",
   "metadata": {},
   "source": [
    "##### 13.  What is the significance of the np.linalg.inv function?"
   ]
  },
  {
   "cell_type": "markdown",
   "id": "9adc4280-fb47-481b-9cb1-1c68f83fee06",
   "metadata": {},
   "source": [
    "np.linalg.inv function is used to compute inverse of sequare matrix. which usefull to solve problem like optimiztion, linear programing and linear algebra "
   ]
  },
  {
   "cell_type": "markdown",
   "id": "425d0201-c957-4b9c-be45-e79ba0bb0e5e",
   "metadata": {},
   "source": [
    "##### 14. What does the np.reshape function do, and how is it used?"
   ]
  },
  {
   "cell_type": "markdown",
   "id": "8a1884b2-8f8f-4109-99ca-062ac9e99ec2",
   "metadata": {},
   "source": [
    "np.reshape used to change the shape of ndarray with condition of:\n",
    "- new shape values multiplication equal to size of orignal array \n",
    "- for exmaple arr of (3x4) could be of shape (2x6) or (6x2) or (12x1) or (1x12) or (4x3) "
   ]
  },
  {
   "cell_type": "markdown",
   "id": "8d780070-a55b-4e91-97c6-daf22f038221",
   "metadata": {},
   "source": [
    "##### 15. What is broadcasting in Numpy?"
   ]
  },
  {
   "cell_type": "markdown",
   "id": "b60a5dd4-c94f-487f-91c4-05edc5432598",
   "metadata": {},
   "source": [
    "The basic idea behind broadcasting is to automatically align dimensions of arrays when performing element-wise operations. Here's how it works:\n",
    "\n",
    "- Rule 1: If the arrays have a different number of dimensions, the shape of the one with fewer dimensions is padded with ones on its leading (left) side.\n",
    "- Rule 2: The sizes of corresponding dimensions of the arrays are compared. Two dimensions are compatible when they are equal, or one of them is 1. If these conditions are not met, a ValueError is raised indicating that the arrays are not broadcast-compatible.\n",
    "- Rule 3: After application of Rule 1 and Rule 2, the dimensions of all arrays must match. If they do not, NumPy will attempt to \"stretch\" the dimensions of the smaller array to match the larger one. This stretching involves replicating elements along the missing dimensions.\n",
    "    "
   ]
  },
  {
   "cell_type": "code",
   "execution_count": null,
   "id": "748c3f5d-8ec6-4a35-9fe2-08e679f44d25",
   "metadata": {},
   "outputs": [],
   "source": []
  }
 ],
 "metadata": {
  "kernelspec": {
   "display_name": "Python 3 (ipykernel)",
   "language": "python",
   "name": "python3"
  },
  "language_info": {
   "codemirror_mode": {
    "name": "ipython",
    "version": 3
   },
   "file_extension": ".py",
   "mimetype": "text/x-python",
   "name": "python",
   "nbconvert_exporter": "python",
   "pygments_lexer": "ipython3",
   "version": "3.10.8"
  }
 },
 "nbformat": 4,
 "nbformat_minor": 5
}
